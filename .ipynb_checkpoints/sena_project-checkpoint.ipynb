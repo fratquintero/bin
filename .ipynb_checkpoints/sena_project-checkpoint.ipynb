{
 "cells": [
  {
   "cell_type": "markdown",
   "id": "6abcab2f-29ec-49fb-b830-d9b5d93165cf",
   "metadata": {
    "tags": []
   },
   "source": [
    "### **<center>Video presentación del caso GA2- 240201528- AA3-EV01</center>**\n",
    "#### Aprendiz **<span style=\"color:blue\">Frat Quintero</span>**\n",
    "#### Instructora **Yuli Paola Horta**\n",
    "#### Ficha **2405116**\n",
    "\n",
    "### Información relevante sobre los siguientes estadísticos: *<span style=\"color:red\">cuántos somos; dónde estamos; y cómo vivimos</span>*\n",
    "#### Fuente de información: Departamento Administrativo Nacional de Estadística - DANE"
   ]
  },
  {
   "cell_type": "code",
   "execution_count": null,
   "id": "92de0a1e-13b4-4eec-912c-54dc484c6ee8",
   "metadata": {},
   "outputs": [],
   "source": [
    "import pandas as pd\n",
    "from IPython import display"
   ]
  },
  {
   "cell_type": "markdown",
   "id": "2488ffdb-fc48-40b7-9bd3-225e17be9ab3",
   "metadata": {
    "tags": []
   },
   "source": [
    "### **<span style=\"color:blue\">Cuántos somos</span>**\n",
    "#### Aquí las variables utilizada son número de personas y edad\n",
    "#### De acuerdo con el censo del año 2018 realizado por el DANE, con corte a tal fecha en Colombia había **48,258,494 personas**\n",
    "#### En la siguiente gráfica tomada de la paǵina web de la entidad se muestra el porcentaje de hombres y de mujeres"
   ]
  },
  {
   "cell_type": "code",
   "execution_count": null,
   "id": "9255bbcf-1dad-43ec-9f9f-769361d4c7fa",
   "metadata": {},
   "outputs": [],
   "source": [
    "display.Image(\"./Images/men_women.png\")"
   ]
  },
  {
   "cell_type": "markdown",
   "id": "32205796-3455-4b35-8919-9c0767763b92",
   "metadata": {
    "tags": []
   },
   "source": [
    "### La distribución por grupos de edad es la siguiente"
   ]
  },
  {
   "cell_type": "code",
   "execution_count": null,
   "id": "2a2f2d6e-16c6-488e-8ca4-b2099f822ad6",
   "metadata": {},
   "outputs": [],
   "source": [
    "display.Image(\"./Images/grupos_de_edad.png\")"
   ]
  },
  {
   "cell_type": "markdown",
   "id": "8c7c9589-8f9a-4610-bb40-3fdb271c8af5",
   "metadata": {},
   "source": [
    "### Interesante observar que en el año 2018 en Colombia hay menos gente joven que en el año 2005"
   ]
  },
  {
   "cell_type": "markdown",
   "id": "e4381697-71c2-4dc9-be83-6f00bacdec90",
   "metadata": {},
   "source": [
    "### **<span style=\"color:blue\">Dónde estamos</span>**"
   ]
  }
 ],
 "metadata": {
  "kernelspec": {
   "display_name": "Python 3 (ipykernel)",
   "language": "python",
   "name": "python3"
  },
  "language_info": {
   "codemirror_mode": {
    "name": "ipython",
    "version": 3
   },
   "file_extension": ".py",
   "mimetype": "text/x-python",
   "name": "python",
   "nbconvert_exporter": "python",
   "pygments_lexer": "ipython3",
   "version": "3.10.2"
  }
 },
 "nbformat": 4,
 "nbformat_minor": 5
}
